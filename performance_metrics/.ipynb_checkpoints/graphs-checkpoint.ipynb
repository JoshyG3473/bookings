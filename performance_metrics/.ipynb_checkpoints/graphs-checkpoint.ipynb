{
 "cells": [
  {
   "cell_type": "code",
   "execution_count": 3,
   "metadata": {},
   "outputs": [],
   "source": [
    "import pandas as pd\n",
    "import matplotlib.pyplot as plt\n",
    "import numpy as np"
   ]
  },
  {
   "cell_type": "code",
   "execution_count": 2,
   "metadata": {},
   "outputs": [
    {
     "name": "stdout",
     "output_type": "stream",
     "text": [
      "--2019-07-14 12:59:54--  https://raw.githubusercontent.com/excursiones/bookings/master/performance_metrics/bookings.csv\n",
      "Resolving raw.githubusercontent.com (raw.githubusercontent.com)... 151.101.4.133\n",
      "Connecting to raw.githubusercontent.com (raw.githubusercontent.com)|151.101.4.133|:443... connected.\n",
      "HTTP request sent, awaiting response... 200 OK\n",
      "Length: 1154 (1.1K) [text/plain]\n",
      "Saving to: ‘bookings.csv’\n",
      "\n",
      "bookings.csv        100%[===================>]   1.13K  --.-KB/s    in 0s      \n",
      "\n",
      "2019-07-14 12:59:55 (27.6 MB/s) - ‘bookings.csv’ saved [1154/1154]\n",
      "\n"
     ]
    }
   ],
   "source": [
    "!wget https://raw.githubusercontent.com/excursiones/bookings/master/performance_metrics/bookings.csv"
   ]
  },
  {
   "cell_type": "code",
   "execution_count": 3,
   "metadata": {},
   "outputs": [
    {
     "name": "stdout",
     "output_type": "stream",
     "text": [
      "--2019-07-14 12:59:56--  https://raw.githubusercontent.com/excursiones/bookings/master/performance_metrics/bookings2.csv\n",
      "Resolving raw.githubusercontent.com (raw.githubusercontent.com)... 151.101.4.133\n",
      "Connecting to raw.githubusercontent.com (raw.githubusercontent.com)|151.101.4.133|:443... connected.\n",
      "HTTP request sent, awaiting response... 200 OK\n",
      "Length: 1527 (1.5K) [text/plain]\n",
      "Saving to: ‘bookings2.csv’\n",
      "\n",
      "bookings2.csv       100%[===================>]   1.49K  --.-KB/s    in 0s      \n",
      "\n",
      "2019-07-14 12:59:58 (192 MB/s) - ‘bookings2.csv’ saved [1527/1527]\n",
      "\n"
     ]
    }
   ],
   "source": [
    "!wget https://raw.githubusercontent.com/excursiones/bookings/master/performance_metrics/bookings2.csv"
   ]
  },
  {
   "cell_type": "code",
   "execution_count": 4,
   "metadata": {},
   "outputs": [
    {
     "ename": "NameError",
     "evalue": "name 'pd' is not defined",
     "output_type": "error",
     "traceback": [
      "\u001b[0;31m---------------------------------------------------------------------------\u001b[0m",
      "\u001b[0;31mNameError\u001b[0m                                 Traceback (most recent call last)",
      "\u001b[0;32m<ipython-input-4-db6031a4e916>\u001b[0m in \u001b[0;36m<module>\u001b[0;34m\u001b[0m\n\u001b[0;32m----> 1\u001b[0;31m df1 = pd.read_csv(\"/home/fabiotovar/Documents/bookings.csv\",\n\u001b[0m\u001b[1;32m      2\u001b[0m                  names =['Request', '# Users', 'Average', 'Min',\n\u001b[1;32m      3\u001b[0m                           \u001b[0;34m'Max'\u001b[0m\u001b[0;34m,\u001b[0m \u001b[0;34m'Std'\u001b[0m\u001b[0;34m,\u001b[0m \u001b[0;34m'Std Dev'\u001b[0m\u001b[0;34m,\u001b[0m \u001b[0;34m'Error'\u001b[0m\u001b[0;34m,\u001b[0m \u001b[0;34m'Throughput'\u001b[0m\u001b[0;34m,\u001b[0m\u001b[0;34m\u001b[0m\u001b[0;34m\u001b[0m\u001b[0m\n\u001b[1;32m      4\u001b[0m                          \u001b[0;34m'Received KB/sec'\u001b[0m\u001b[0;34m,\u001b[0m\u001b[0;34m\u001b[0m\u001b[0;34m\u001b[0m\u001b[0m\n\u001b[1;32m      5\u001b[0m                          \u001b[0;34m'Sent KB/sec'\u001b[0m\u001b[0;34m,\u001b[0m\u001b[0;34m\u001b[0m\u001b[0;34m\u001b[0m\u001b[0m\n",
      "\u001b[0;31mNameError\u001b[0m: name 'pd' is not defined"
     ]
    }
   ],
   "source": [
    "df1 = pd.read_csv(\"/home/fabiotovar/Documents/bookings.csv\",\n",
    "                 names =['Request', '# Users', 'Average', 'Min',\n",
    "                          'Max', 'Std', 'Std Dev', 'Error', 'Throughput',\n",
    "                         'Received KB/sec', \n",
    "                         'Sent KB/sec', \n",
    "                         'Avg. Bytes'])\n",
    "#df1 = df1[:-1] \n",
    "\n",
    "x=df1['# Users']\n",
    "y=df1['Average']\n",
    "\n",
    "df1.plot.scatter('# Users', 'Average', c=\"grey\")\n",
    "\n",
    "plt.plot(x, y, \"r\")"
   ]
  },
  {
   "cell_type": "code",
   "execution_count": null,
   "metadata": {},
   "outputs": [],
   "source": [
    "df2 = pd.read_csv(\"/home/fabiotovar/Documents/bookings2.csv\",\n",
    "                 names =['Request', '# Users', 'Average', 'Min',\n",
    "                          'Max', 'Std', 'Std Dev', 'Error', 'Throughput',\n",
    "                          'Received KB/sec', 'Sent KB/sec', 'Avg. Bytes'])\n",
    "\n",
    "x=df2['# Users']\n",
    "y=df2['Average']\n",
    "\n",
    "df2.plot.scatter('# Users', 'Average', c=\"grey\")\n",
    "\n",
    "plt.plot(x, y, \"b\")"
   ]
  },
  {
   "cell_type": "code",
   "execution_count": null,
   "metadata": {},
   "outputs": [],
   "source": [
    "ax = df1.plot.scatter('# Users', 'Average', c=\"grey\")\n",
    "ax.plot(x, y, \"b\")\n",
    "\n",
    "x=df1['# Users']\n",
    "y=df1['Average']\n",
    "\n",
    "df2.plot.scatter('# Users', 'Average', c=\"grey\", ax=ax)\n",
    "\n",
    "ax.plot(x, y, \"r\")"
   ]
  },
  {
   "cell_type": "code",
   "execution_count": null,
   "metadata": {},
   "outputs": [],
   "source": []
  },
  {
   "cell_type": "code",
   "execution_count": null,
   "metadata": {},
   "outputs": [],
   "source": []
  }
 ],
 "metadata": {
  "kernelspec": {
   "display_name": "Python 3",
   "language": "python",
   "name": "python3"
  },
  "language_info": {
   "codemirror_mode": {
    "name": "ipython",
    "version": 3
   },
   "file_extension": ".py",
   "mimetype": "text/x-python",
   "name": "python",
   "nbconvert_exporter": "python",
   "pygments_lexer": "ipython3",
   "version": "3.7.3"
  }
 },
 "nbformat": 4,
 "nbformat_minor": 2
}
